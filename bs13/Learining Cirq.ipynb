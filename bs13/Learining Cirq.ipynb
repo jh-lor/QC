{
 "cells": [
  {
   "cell_type": "code",
   "execution_count": 1,
   "metadata": {},
   "outputs": [
    {
     "name": "stderr",
     "output_type": "stream",
     "text": [
      "\n",
      "Bad key \"text.kerning_factor\" on line 4 in\n",
      "C:\\Users\\lorju\\Anaconda3\\lib\\site-packages\\matplotlib\\mpl-data\\stylelib\\_classic_test_patch.mplstyle.\n",
      "You probably need to get an updated matplotlibrc file from\n",
      "http://github.com/matplotlib/matplotlib/blob/master/matplotlibrc.template\n",
      "or from the matplotlib source distribution\n"
     ]
    }
   ],
   "source": [
    "import cirq"
   ]
  },
  {
   "cell_type": "code",
   "execution_count": 2,
   "metadata": {},
   "outputs": [
    {
     "name": "stdout",
     "output_type": "stream",
     "text": [
      "H(3)\n"
     ]
    }
   ],
   "source": [
    "q0 = cirq.NamedQubit('source')\n",
    "q1 = cirq.NamedQubit('target')\n",
    "\n",
    "q3 = cirq.LineQubit(3)\n",
    "print(cirq.H(q3))"
   ]
  },
  {
   "cell_type": "code",
   "execution_count": 3,
   "metadata": {},
   "outputs": [],
   "source": [
    "q0, q1, q2 = cirq.LineQubit.range(3)\n",
    "# Grid Qubits can also be referenced individually\n",
    "q4_5 = cirq.GridQubit(4,5)\n",
    "\n",
    "# Or created in bulk in a square\n",
    "# This will create 16 qubits from (0,0) to (3,3)\n",
    "qubits = cirq.GridQubit.square(4)"
   ]
  },
  {
   "cell_type": "code",
   "execution_count": 4,
   "metadata": {},
   "outputs": [],
   "source": [
    "CNOT = cirq.CNOT\n",
    "Z = cirq.Z\n",
    "sqrt_x_gate = cirq.X**0.5\n",
    "sqrt_iswap = cirq.ISWAP**0.5\n",
    "\n",
    "# Some gates can also take parameters\n",
    "sqrt_sqrt_y = cirq.YPowGate(exponent=0.25)\n",
    "\n",
    "# Example operations\n",
    "q0, q1 = cirq.LineQubit.range(2)\n",
    "z_op = cirq.Z(q0)\n",
    "not_op = cirq.CNOT(q0, q1)\n",
    "sqrt_iswap_op = sqrt_iswap(q0, q1)"
   ]
  },
  {
   "cell_type": "code",
   "execution_count": 5,
   "metadata": {},
   "outputs": [
    {
     "name": "stdout",
     "output_type": "stream",
     "text": [
      "0: ───H───\n",
      "\n",
      "1: ───H───\n",
      "\n",
      "2: ───H───\n"
     ]
    }
   ],
   "source": [
    "circuit = cirq.Circuit()\n",
    "circuit.append(cirq.H(q) for q  in cirq.LineQubit.range(3))\n",
    "#H is operating on each qbit\n",
    "print(circuit)"
   ]
  },
  {
   "cell_type": "code",
   "execution_count": 6,
   "metadata": {},
   "outputs": [
    {
     "name": "stdout",
     "output_type": "stream",
     "text": [
      "0: ───×───────────\n",
      "      │\n",
      "1: ───×───×───────\n",
      "          │\n",
      "2: ───────×───×───\n",
      "              │\n",
      "3: ───────────×───\n"
     ]
    }
   ],
   "source": [
    "print(cirq.Circuit(cirq.SWAP(q,q+1) for q in cirq.LineQubit.range(3)))"
   ]
  },
  {
   "cell_type": "code",
   "execution_count": 7,
   "metadata": {},
   "outputs": [
    {
     "name": "stdout",
     "output_type": "stream",
     "text": [
      "0: ───H───────────\n",
      "\n",
      "1: ───────H───────\n",
      "\n",
      "2: ───────────H───\n"
     ]
    }
   ],
   "source": [
    "# Creates each gate in a separate moment.\n",
    "print(cirq.Circuit(cirq.Moment([cirq.H(q)]) for q in cirq.LineQubit.range(3)))"
   ]
  },
  {
   "cell_type": "code",
   "execution_count": 49,
   "metadata": {},
   "outputs": [],
   "source": [
    "Yp = cirq.YPowGate\n",
    "CNOT = cirq.CNOT\n",
    "H=cirq.H\n",
    "CZ = cirq.CZ\n",
    "CX = cirq.CX\n",
    "\n",
    "qubits = cirq.LineQubit.range(12)\n",
    "stab = qubits[10:]\n",
    "\n",
    "\n",
    "fig2a = cirq.Circuit()\n",
    "\n",
    "fig2a.append(Yp(exponent = 0.5).on(qubits[0]))\n",
    "fig2a.append(CNOT(qubits[0],qubits[3]))\n",
    "fig2a.append(CNOT(qubits[0],qubits[6]))\n",
    "#fig2a.append(H(qubits[0]))\n",
    "fig2a.append(cirq.Moment(H(qubits[3]),H(qubits[6]),H(qubits[0])))\n",
    "#fig2a.append(H(qubits[6]))\n",
    "fig2a.append(CNOT(qubits[0],qubits[1]))\n",
    "fig2a.append(CNOT(qubits[0],qubits[2]))\n",
    "fig2a.append(CNOT(qubits[3],qubits[4]))\n",
    "fig2a.append(CNOT(qubits[3],qubits[5]))\n",
    "fig2a.append(CNOT(qubits[6],qubits[7]))\n",
    "fig2a.append(CNOT(qubits[6],qubits[8]))\n",
    "\n",
    "fig2a.append(cirq.Moment(H(q) for q in qubits[:10]))\n",
    "\n",
    "fig2a.append(CZ(qubits[0],stab[0]))\n",
    "fig2a.append(CZ(qubits[1],stab[0]))\n",
    "fig2a.append(CZ(qubits[2],stab[0]))\n",
    "fig2a.append(CZ(qubits[3],stab[0]))\n",
    "fig2a.append(CZ(qubits[4],stab[0]))\n",
    "fig2a.append(CZ(qubits[5],stab[0]))\n",
    "\n",
    "fig2a.append(CX(qubits[0],stab[1]))\n",
    "fig2a.append(CX(qubits[1],stab[1]))\n",
    "fig2a.append(CX(qubits[2],stab[1]))\n",
    "fig2a.append(CX(qubits[3],stab[1]))\n",
    "fig2a.append(CX(qubits[4],stab[1]))\n",
    "fig2a.append(CX(qubits[5],stab[1]))\n",
    "\n",
    "fig2a.append(H(stab[1]))\n",
    "fig2a.append(cirq.Moment(cirq.measure(stab[1],key=\"First X stabilizer\"),cirq.measure(stab[0],key=\"First Z stabilizer\")))"
   ]
  },
  {
   "cell_type": "code",
   "execution_count": 51,
   "metadata": {},
   "outputs": [
    {
     "name": "stdout",
     "output_type": "stream",
     "text": [
      "                                           ┌──┐   ┌──┐   ┌──┐   ┌──┐   ┌──┐\n",
      "0: ────Y^0.5───@───@───H───@───@───H───@─────@──────────────────────────────────────────────────────────────────\n",
      "               │   │       │   │       │     │\n",
      "1: ────────────┼───┼───────X───┼───H───┼────@┼──────@───────────────────────────────────────────────────────────\n",
      "               │   │           │       │    ││      │\n",
      "2: ────────────┼───┼───────────X───H───┼────┼┼─────@┼──────@────────────────────────────────────────────────────\n",
      "               │   │                   │    ││     ││      │\n",
      "3: ────────────X───┼───H───@───@───H───┼────┼┼─────┼┼─────@┼──────@─────────────────────────────────────────────\n",
      "                   │       │   │       │    ││     ││     ││      │\n",
      "4: ────────────────┼───────X───┼───H───┼────┼┼─────┼┼─────┼┼─────@┼──────@──────────────────────────────────────\n",
      "                   │           │       │    ││     ││     ││     ││      │\n",
      "5: ────────────────┼───────────X───H───┼────┼┼─────┼┼─────┼┼─────┼┼─────@┼────@─────────────────────────────────\n",
      "                   │                   │    ││     ││     ││     ││     ││    │\n",
      "6: ────────────────X───H───@───@───H───┼────┼┼─────┼┼─────┼┼─────┼┼─────┼┼────┼─────────────────────────────────\n",
      "                           │   │       │    ││     ││     ││     ││     ││    │\n",
      "7: ────────────────────────X───┼───H───┼────┼┼─────┼┼─────┼┼─────┼┼─────┼┼────┼─────────────────────────────────\n",
      "                               │       │    ││     ││     ││     ││     ││    │\n",
      "8: ────────────────────────────X───H───┼────┼┼─────┼┼─────┼┼─────┼┼─────┼┼────┼─────────────────────────────────\n",
      "                                       │    ││     ││     ││     ││     ││    │\n",
      "9: ────────────────────────────────H───┼────┼┼─────┼┼─────┼┼─────┼┼─────┼┼────┼─────────────────────────────────\n",
      "                                       │    ││     ││     ││     ││     ││    │\n",
      "10: ───────────────────────────────────@────@┼─────@┼─────@┼─────@┼─────@┼────┼───────M('First Z stabilizer')───\n",
      "                                             │      │      │      │      │    │\n",
      "11: ─────────────────────────────────────────X──────X──────X──────X──────X────X───H───M('First X stabilizer')───\n",
      "                                           └──┘   └──┘   └──┘   └──┘   └──┘\n"
     ]
    }
   ],
   "source": [
    "print(fig2a)\n"
   ]
  },
  {
   "cell_type": "code",
   "execution_count": 10,
   "metadata": {},
   "outputs": [
    {
     "name": "stdout",
     "output_type": "stream",
     "text": [
      "Simulate the circuit:\n",
      "measurements: (no measurements)\n",
      "output vector: [ 0.06249999+0.06249999j -0.        +0.j          0.        +0.j\n",
      "  0.06249999+0.06249999j  0.        +0.j          0.06249999+0.06249999j\n",
      "  0.06249999+0.06249999j -0.        +0.j          0.        +0.j\n",
      " -0.        +0.j          0.        +0.j         -0.        +0.j\n",
      "  0.        +0.j         -0.        +0.j          0.        +0.j\n",
      " -0.        +0.j          0.        +0.j         -0.        +0.j\n",
      "  0.        +0.j         -0.        +0.j          0.        +0.j\n",
      " -0.        +0.j          0.        +0.j         -0.        +0.j\n",
      "  0.06249999+0.06249999j -0.        +0.j          0.        +0.j\n",
      "  0.06249999+0.06249999j  0.        +0.j          0.06249999+0.06249999j\n",
      "  0.06249999+0.06249999j -0.        +0.j          0.        +0.j\n",
      " -0.        +0.j          0.        +0.j         -0.        +0.j\n",
      "  0.        +0.j         -0.        +0.j          0.        +0.j\n",
      " -0.        +0.j          0.06249999+0.06249999j -0.        +0.j\n",
      "  0.        +0.j          0.06249999+0.06249999j  0.        +0.j\n",
      "  0.06249999+0.06249999j  0.06249999+0.06249999j -0.        +0.j\n",
      "  0.06249999+0.06249999j -0.        +0.j          0.        +0.j\n",
      "  0.06249999+0.06249999j  0.        +0.j          0.06249999+0.06249999j\n",
      "  0.06249999+0.06249999j -0.        +0.j          0.        +0.j\n",
      " -0.        +0.j          0.        +0.j         -0.        +0.j\n",
      "  0.        +0.j         -0.        +0.j          0.        +0.j\n",
      " -0.        +0.j          0.        +0.j         -0.        +0.j\n",
      "  0.        +0.j         -0.        +0.j          0.        +0.j\n",
      " -0.        +0.j          0.        +0.j         -0.        +0.j\n",
      "  0.        +0.j          0.06249999+0.06249999j  0.06249999+0.06249999j\n",
      " -0.        +0.j          0.06249999+0.06249999j -0.        +0.j\n",
      "  0.        +0.j          0.06249999+0.06249999j  0.        +0.j\n",
      "  0.06249999+0.06249999j  0.06249999+0.06249999j -0.        +0.j\n",
      "  0.06249999+0.06249999j -0.        +0.j          0.        +0.j\n",
      "  0.06249999+0.06249999j  0.        +0.j         -0.        +0.j\n",
      "  0.        +0.j         -0.        +0.j          0.        +0.j\n",
      " -0.        +0.j          0.        +0.j         -0.        +0.j\n",
      "  0.        +0.j          0.06249999+0.06249999j  0.06249999+0.06249999j\n",
      " -0.        +0.j          0.06249999+0.06249999j -0.        +0.j\n",
      "  0.        +0.j          0.06249999+0.06249999j  0.        +0.j\n",
      " -0.        +0.j          0.        +0.j         -0.        +0.j\n",
      "  0.        +0.j         -0.        +0.j          0.        +0.j\n",
      " -0.        +0.j          0.        +0.j         -0.        +0.j\n",
      "  0.        +0.j         -0.        +0.j          0.        +0.j\n",
      " -0.        +0.j          0.        +0.j         -0.        +0.j\n",
      "  0.        +0.j          0.06249999+0.06249999j  0.06249999+0.06249999j\n",
      " -0.        +0.j          0.06249999+0.06249999j -0.        +0.j\n",
      "  0.        +0.j          0.06249999+0.06249999j  0.        +0.j\n",
      " -0.        +0.j          0.        +0.j         -0.        +0.j\n",
      "  0.        +0.j         -0.        +0.j          0.        +0.j\n",
      " -0.        +0.j          0.        +0.j          0.06249999+0.06249999j\n",
      "  0.06249999+0.06249999j -0.        +0.j          0.06249999+0.06249999j\n",
      " -0.        +0.j          0.        +0.j          0.06249999+0.06249999j\n",
      "  0.        +0.j          0.06249999+0.06249999j  0.06249999+0.06249999j\n",
      " -0.        +0.j          0.06249999+0.06249999j -0.        +0.j\n",
      "  0.        +0.j          0.06249999+0.06249999j  0.        +0.j\n",
      " -0.        +0.j          0.        +0.j         -0.        +0.j\n",
      "  0.        +0.j         -0.        +0.j          0.        +0.j\n",
      " -0.        +0.j          0.        +0.j          0.06249999+0.06249999j\n",
      "  0.06249999+0.06249999j -0.        +0.j          0.06249999+0.06249999j\n",
      " -0.        +0.j          0.        +0.j          0.06249999+0.06249999j\n",
      "  0.        +0.j         -0.        +0.j          0.        +0.j\n",
      " -0.        +0.j          0.        +0.j         -0.        +0.j\n",
      "  0.        +0.j         -0.        +0.j          0.        +0.j\n",
      " -0.        +0.j          0.        +0.j         -0.        +0.j\n",
      "  0.        +0.j         -0.        +0.j          0.        +0.j\n",
      " -0.        +0.j          0.        +0.j          0.06249999+0.06249999j\n",
      "  0.06249999+0.06249999j -0.        +0.j          0.06249999+0.06249999j\n",
      " -0.        +0.j          0.        +0.j          0.06249999+0.06249999j\n",
      "  0.06249999+0.06249999j -0.        +0.j          0.        +0.j\n",
      "  0.06249999+0.06249999j  0.        +0.j          0.06249999+0.06249999j\n",
      "  0.06249999+0.06249999j -0.        +0.j          0.        +0.j\n",
      " -0.        +0.j          0.        +0.j         -0.        +0.j\n",
      "  0.        +0.j         -0.        +0.j          0.        +0.j\n",
      " -0.        +0.j          0.        +0.j         -0.        +0.j\n",
      "  0.        +0.j         -0.        +0.j          0.        +0.j\n",
      " -0.        +0.j          0.        +0.j         -0.        +0.j\n",
      "  0.06249999+0.06249999j -0.        +0.j          0.        +0.j\n",
      "  0.06249999+0.06249999j  0.        +0.j          0.06249999+0.06249999j\n",
      "  0.06249999+0.06249999j -0.        +0.j          0.        +0.j\n",
      " -0.        +0.j          0.        +0.j         -0.        +0.j\n",
      "  0.        +0.j         -0.        +0.j          0.        +0.j\n",
      " -0.        +0.j          0.06249999+0.06249999j -0.        +0.j\n",
      "  0.        +0.j          0.06249999+0.06249999j  0.        +0.j\n",
      "  0.06249999+0.06249999j  0.06249999+0.06249999j -0.        +0.j\n",
      "  0.06249999+0.06249999j -0.        +0.j          0.        +0.j\n",
      "  0.06249999+0.06249999j  0.        +0.j          0.06249999+0.06249999j\n",
      "  0.06249999+0.06249999j -0.        +0.j          0.        +0.j\n",
      " -0.        +0.j          0.        +0.j         -0.        +0.j\n",
      "  0.        +0.j         -0.        +0.j          0.        +0.j\n",
      " -0.        +0.j          0.        +0.j         -0.        +0.j\n",
      "  0.        +0.j         -0.        +0.j          0.        +0.j\n",
      " -0.        +0.j          0.        +0.j         -0.        +0.j\n",
      "  0.        +0.j          0.06249999+0.06249999j  0.06249999+0.06249999j\n",
      " -0.        +0.j          0.06249999+0.06249999j -0.        +0.j\n",
      "  0.        +0.j          0.06249999+0.06249999j  0.        +0.j\n",
      "  0.06249999+0.06249999j  0.06249999+0.06249999j -0.        +0.j\n",
      "  0.06249999+0.06249999j -0.        +0.j          0.        +0.j\n",
      "  0.06249999+0.06249999j  0.        +0.j         -0.        +0.j\n",
      "  0.        +0.j         -0.        +0.j          0.        +0.j\n",
      " -0.        +0.j          0.        +0.j         -0.        +0.j\n",
      "  0.        +0.j          0.06249999+0.06249999j  0.06249999+0.06249999j\n",
      " -0.        +0.j          0.06249999+0.06249999j -0.        +0.j\n",
      "  0.        +0.j          0.06249999+0.06249999j  0.        +0.j\n",
      " -0.        +0.j          0.        +0.j         -0.        +0.j\n",
      "  0.        +0.j         -0.        +0.j          0.        +0.j\n",
      " -0.        +0.j          0.        +0.j         -0.        +0.j\n",
      "  0.        +0.j         -0.        +0.j          0.        +0.j\n",
      " -0.        +0.j          0.        +0.j         -0.        +0.j\n",
      "  0.        +0.j          0.06249999+0.06249999j  0.06249999+0.06249999j\n",
      " -0.        +0.j          0.06249999+0.06249999j -0.        +0.j\n",
      "  0.        +0.j          0.06249999+0.06249999j  0.06249999+0.06249999j\n",
      " -0.        +0.j          0.        +0.j          0.06249999+0.06249999j\n",
      "  0.        +0.j          0.06249999+0.06249999j  0.06249999+0.06249999j\n",
      " -0.        +0.j          0.        +0.j         -0.        +0.j\n",
      "  0.        +0.j         -0.        +0.j          0.        +0.j\n",
      " -0.        +0.j          0.        +0.j         -0.        +0.j\n",
      "  0.        +0.j         -0.        +0.j          0.        +0.j\n",
      " -0.        +0.j          0.        +0.j         -0.        +0.j\n",
      "  0.        +0.j         -0.        +0.j          0.06249999+0.06249999j\n",
      " -0.        +0.j          0.        +0.j          0.06249999+0.06249999j\n",
      "  0.        +0.j          0.06249999+0.06249999j  0.06249999+0.06249999j\n",
      " -0.        +0.j          0.        +0.j         -0.        +0.j\n",
      "  0.        +0.j         -0.        +0.j          0.        +0.j\n",
      " -0.        +0.j          0.        +0.j         -0.        +0.j\n",
      "  0.06249999+0.06249999j -0.        +0.j          0.        +0.j\n",
      "  0.06249999+0.06249999j  0.        +0.j          0.06249999+0.06249999j\n",
      "  0.06249999+0.06249999j -0.        +0.j          0.06249999+0.06249999j\n",
      " -0.        +0.j          0.        +0.j          0.06249999+0.06249999j\n",
      "  0.        +0.j          0.06249999+0.06249999j  0.06249999+0.06249999j\n",
      " -0.        +0.j          0.        +0.j         -0.        +0.j\n",
      "  0.        +0.j         -0.        +0.j          0.        +0.j\n",
      " -0.        +0.j          0.        +0.j         -0.        +0.j\n",
      "  0.06249999+0.06249999j -0.        +0.j          0.        +0.j\n",
      "  0.06249999+0.06249999j  0.        +0.j          0.06249999+0.06249999j\n",
      "  0.06249999+0.06249999j -0.        +0.j          0.        +0.j\n",
      " -0.        +0.j          0.        +0.j         -0.        +0.j\n",
      "  0.        +0.j         -0.        +0.j          0.        +0.j\n",
      " -0.        +0.j          0.        +0.j         -0.        +0.j\n",
      "  0.        +0.j         -0.        +0.j          0.        +0.j\n",
      " -0.        +0.j          0.        +0.j         -0.        +0.j\n",
      "  0.06249999+0.06249999j -0.        +0.j          0.        +0.j\n",
      "  0.06249999+0.06249999j  0.        +0.j          0.06249999+0.06249999j\n",
      "  0.06249999+0.06249999j -0.        +0.j          0.        +0.j\n",
      " -0.        +0.j          0.        +0.j         -0.        +0.j\n",
      "  0.        +0.j         -0.        +0.j          0.        +0.j\n",
      " -0.        +0.j          0.06249999+0.06249999j -0.        +0.j\n",
      "  0.        +0.j          0.06249999+0.06249999j  0.        +0.j\n",
      "  0.06249999+0.06249999j  0.06249999+0.06249999j -0.        +0.j\n",
      "  0.06249999+0.06249999j -0.        +0.j          0.        +0.j\n",
      "  0.06249999+0.06249999j  0.        +0.j          0.06249999+0.06249999j\n",
      "  0.06249999+0.06249999j -0.        +0.j          0.        +0.j\n",
      " -0.        +0.j          0.        +0.j         -0.        +0.j\n",
      "  0.        +0.j         -0.        +0.j          0.        +0.j\n",
      " -0.        +0.j          0.        +0.j         -0.        +0.j\n",
      "  0.        +0.j         -0.        +0.j          0.        +0.j\n",
      " -0.        +0.j          0.        +0.j         -0.        +0.j\n",
      "  0.        +0.j          0.06249999+0.06249999j  0.06249999+0.06249999j\n",
      " -0.        +0.j          0.06249999+0.06249999j -0.        +0.j\n",
      "  0.        +0.j          0.06249999+0.06249999j  0.        +0.j\n",
      "  0.06249999+0.06249999j  0.06249999+0.06249999j -0.        +0.j\n",
      "  0.06249999+0.06249999j -0.        +0.j          0.        +0.j\n",
      "  0.06249999+0.06249999j  0.        +0.j         -0.        +0.j\n",
      "  0.        +0.j         -0.        +0.j          0.        +0.j\n",
      " -0.        +0.j          0.        +0.j         -0.        +0.j\n",
      "  0.        +0.j          0.06249999+0.06249999j  0.06249999+0.06249999j\n",
      " -0.        +0.j          0.06249999+0.06249999j -0.        +0.j\n",
      "  0.        +0.j          0.06249999+0.06249999j  0.        +0.j\n",
      " -0.        +0.j          0.        +0.j         -0.        +0.j\n",
      "  0.        +0.j         -0.        +0.j          0.        +0.j\n",
      " -0.        +0.j          0.        +0.j         -0.        +0.j\n",
      "  0.        +0.j         -0.        +0.j          0.        +0.j\n",
      " -0.        +0.j          0.        +0.j         -0.        +0.j\n",
      "  0.        +0.j          0.06249999+0.06249999j  0.06249999+0.06249999j\n",
      " -0.        +0.j          0.06249999+0.06249999j -0.        +0.j\n",
      "  0.        +0.j          0.06249999+0.06249999j]\n",
      "\n"
     ]
    }
   ],
   "source": [
    "s = cirq.Simulator()\n",
    "print('Simulate the circuit:')\n",
    "results=s.simulate(fig2a)\n",
    "print(results)\n",
    "print()"
   ]
  },
  {
   "cell_type": "code",
   "execution_count": 18,
   "metadata": {},
   "outputs": [
    {
     "ename": "TypeError",
     "evalue": "can't multiply sequence by non-int of type 'list'",
     "output_type": "error",
     "traceback": [
      "\u001b[1;31m---------------------------------------------------------------------------\u001b[0m",
      "\u001b[1;31mTypeError\u001b[0m                                 Traceback (most recent call last)",
      "\u001b[1;32m<ipython-input-18-7ccbc2918b5a>\u001b[0m in \u001b[0;36m<module>\u001b[1;34m\u001b[0m\n\u001b[0;32m      4\u001b[0m \u001b[0mCZ\u001b[0m \u001b[1;33m=\u001b[0m \u001b[0mcirq\u001b[0m\u001b[1;33m.\u001b[0m\u001b[0mControlledGate\u001b[0m\u001b[1;33m(\u001b[0m\u001b[0mcirq\u001b[0m\u001b[1;33m.\u001b[0m\u001b[0mZ\u001b[0m\u001b[1;33m)\u001b[0m\u001b[1;33m\u001b[0m\u001b[1;33m\u001b[0m\u001b[0m\n\u001b[0;32m      5\u001b[0m \u001b[1;31m#measurement.append(cirq.H(q0))\u001b[0m\u001b[1;33m\u001b[0m\u001b[1;33m\u001b[0m\u001b[1;33m\u001b[0m\u001b[0m\n\u001b[1;32m----> 6\u001b[1;33m \u001b[0mmeasurement\u001b[0m\u001b[1;33m.\u001b[0m\u001b[0mappend\u001b[0m\u001b[1;33m(\u001b[0m\u001b[0mCZ\u001b[0m\u001b[1;33m.\u001b[0m\u001b[0mcontrolled\u001b[0m\u001b[1;33m(\u001b[0m\u001b[1;33m[\u001b[0m\u001b[0mq0\u001b[0m\u001b[1;33m,\u001b[0m\u001b[0mq1\u001b[0m\u001b[1;33m]\u001b[0m\u001b[1;33m)\u001b[0m\u001b[1;33m)\u001b[0m\u001b[1;33m\u001b[0m\u001b[1;33m\u001b[0m\u001b[0m\n\u001b[0m\u001b[0;32m      7\u001b[0m \u001b[1;31m#measurement.append(cirq.Z(q0))\u001b[0m\u001b[1;33m\u001b[0m\u001b[1;33m\u001b[0m\u001b[1;33m\u001b[0m\u001b[0m\n\u001b[0;32m      8\u001b[0m \u001b[0mmeasurement\u001b[0m\u001b[1;33m.\u001b[0m\u001b[0mappend\u001b[0m\u001b[1;33m(\u001b[0m\u001b[0mcirq\u001b[0m\u001b[1;33m.\u001b[0m\u001b[0mmeasure\u001b[0m\u001b[1;33m(\u001b[0m\u001b[0mq0\u001b[0m\u001b[1;33m,\u001b[0m \u001b[0mkey\u001b[0m \u001b[1;33m=\u001b[0m\u001b[1;34m'a'\u001b[0m\u001b[1;33m)\u001b[0m\u001b[1;33m)\u001b[0m\u001b[1;33m\u001b[0m\u001b[1;33m\u001b[0m\u001b[0m\n",
      "\u001b[1;32m~\\Anaconda3\\lib\\site-packages\\cirq\\ops\\raw_types.py\u001b[0m in \u001b[0;36mcontrolled\u001b[1;34m(self, num_controls, control_values, control_qid_shape)\u001b[0m\n\u001b[0;32m    287\u001b[0m                               \u001b[0mnum_controls\u001b[0m\u001b[1;33m=\u001b[0m\u001b[0mnum_controls\u001b[0m\u001b[1;33m,\u001b[0m\u001b[1;33m\u001b[0m\u001b[1;33m\u001b[0m\u001b[0m\n\u001b[0;32m    288\u001b[0m                               \u001b[0mcontrol_values\u001b[0m\u001b[1;33m=\u001b[0m\u001b[0mcontrol_values\u001b[0m\u001b[1;33m,\u001b[0m\u001b[1;33m\u001b[0m\u001b[1;33m\u001b[0m\u001b[0m\n\u001b[1;32m--> 289\u001b[1;33m                               control_qid_shape=control_qid_shape)\n\u001b[0m\u001b[0;32m    290\u001b[0m \u001b[1;33m\u001b[0m\u001b[0m\n\u001b[0;32m    291\u001b[0m     \u001b[1;31m# num_qubits, _num_qubits_, and _qid_shape_ are implemented with alternative\u001b[0m\u001b[1;33m\u001b[0m\u001b[1;33m\u001b[0m\u001b[1;33m\u001b[0m\u001b[0m\n",
      "\u001b[1;32m~\\Anaconda3\\lib\\site-packages\\cirq\\ops\\controlled_gate.py\u001b[0m in \u001b[0;36m__init__\u001b[1;34m(self, sub_gate, num_controls, control_values, control_qid_shape)\u001b[0m\n\u001b[0;32m     63\u001b[0m                 \u001b[0mnum_controls\u001b[0m \u001b[1;33m=\u001b[0m \u001b[1;36m1\u001b[0m\u001b[1;33m\u001b[0m\u001b[1;33m\u001b[0m\u001b[0m\n\u001b[0;32m     64\u001b[0m         \u001b[1;32mif\u001b[0m \u001b[0mcontrol_values\u001b[0m \u001b[1;32mis\u001b[0m \u001b[1;32mNone\u001b[0m\u001b[1;33m:\u001b[0m\u001b[1;33m\u001b[0m\u001b[1;33m\u001b[0m\u001b[0m\n\u001b[1;32m---> 65\u001b[1;33m             \u001b[0mcontrol_values\u001b[0m \u001b[1;33m=\u001b[0m \u001b[1;33m(\u001b[0m\u001b[1;33m(\u001b[0m\u001b[1;36m1\u001b[0m\u001b[1;33m,\u001b[0m\u001b[1;33m)\u001b[0m\u001b[1;33m,\u001b[0m\u001b[1;33m)\u001b[0m \u001b[1;33m*\u001b[0m \u001b[0mnum_controls\u001b[0m\u001b[1;33m\u001b[0m\u001b[1;33m\u001b[0m\u001b[0m\n\u001b[0m\u001b[0;32m     66\u001b[0m         \u001b[1;32mif\u001b[0m \u001b[0mnum_controls\u001b[0m \u001b[1;33m!=\u001b[0m \u001b[0mlen\u001b[0m\u001b[1;33m(\u001b[0m\u001b[0mcontrol_values\u001b[0m\u001b[1;33m)\u001b[0m\u001b[1;33m:\u001b[0m\u001b[1;33m\u001b[0m\u001b[1;33m\u001b[0m\u001b[0m\n\u001b[0;32m     67\u001b[0m             \u001b[1;32mraise\u001b[0m \u001b[0mValueError\u001b[0m\u001b[1;33m(\u001b[0m\u001b[1;34m'len(control_values) != num_controls'\u001b[0m\u001b[1;33m)\u001b[0m\u001b[1;33m\u001b[0m\u001b[1;33m\u001b[0m\u001b[0m\n",
      "\u001b[1;31mTypeError\u001b[0m: can't multiply sequence by non-int of type 'list'"
     ]
    }
   ],
   "source": [
    "measurement = cirq.Circuit()\n",
    "q0= cirq.NamedQubit('source')\n",
    "q1= cirq.NamedQubit('target')\n",
    "CZ = cirq.ControlledGate(cirq.Z)\n",
    "#measurement.append(cirq.H(q0))\n",
    "measurement.append(CZ.controlled(q0,q1))\n",
    "#measurement.append(cirq.Z(q0))\n",
    "measurement.append(cirq.measure(q0, key ='a'))\n",
    "sim = cirq.Simulator()\n",
    "results =sim.simulate(measurement)\n",
    "print(measurement)\n",
    "print(results)"
   ]
  },
  {
   "cell_type": "code",
   "execution_count": 16,
   "metadata": {},
   "outputs": [],
   "source": [
    "import cirq\n",
    "def measurement(state,gate):\n",
    "    qbits = cirq.LineQubit.range(2)\n",
    "    qin = qbits[0]\n",
    "    measure = qbits[1]\n",
    "    circuit = cirq.Circuit()\n",
    "    for i in range(len(state)):\n",
    "        if state[i]==1: circuit.append(cirq.X(qbits[i]))\n",
    "        if state[i]==\"+\": circuit.append(cirq.H(qbits[i]))\n",
    "        if state[i]==\"-\": circuit.append([cirq.X(qbits[i]),cirq.H(qbits[i])])\n",
    "    circuit.append(cirq.H(measure))\n",
    "    circuit.append(gate(measure,qin))\n",
    "    circuit.append(cirq.H(measure))\n",
    "    \n",
    "    circuit.append(cirq.measure(measure, key = gate))\n",
    "    return circuit"
   ]
  },
  {
   "cell_type": "code",
   "execution_count": 491,
   "metadata": {},
   "outputs": [
    {
     "name": "stdout",
     "output_type": "stream",
     "text": [
      "0: ───────────────@─────────────────\n",
      "                  │\n",
      "1: ───X───H───H───@───H───M('CZ')───\n",
      "measurements: CZ=1\n",
      "output vector: -1|01⟩\n"
     ]
    }
   ],
   "source": [
    "state = [0,\"-\"]\n",
    "gate = cirq.CZ\n",
    "circuit = measurement(state,gate)\n",
    "s = cirq.Simulator()\n",
    "results = s.simulate(circuit)\n",
    "print(circuit)\n",
    "print(results)"
   ]
  }
 ],
 "metadata": {
  "kernelspec": {
   "display_name": "Python 3",
   "language": "python",
   "name": "python3"
  },
  "language_info": {
   "codemirror_mode": {
    "name": "ipython",
    "version": 3
   },
   "file_extension": ".py",
   "mimetype": "text/x-python",
   "name": "python",
   "nbconvert_exporter": "python",
   "pygments_lexer": "ipython3",
   "version": "3.6.10"
  }
 },
 "nbformat": 4,
 "nbformat_minor": 4
}
